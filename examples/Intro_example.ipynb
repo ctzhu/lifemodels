{
 "cells": [
  {
   "cell_type": "raw",
   "metadata": {
    "slideshow": {
     "slide_type": "skip"
    }
   },
   "source": [
    "<style type=\"text/css\">\n",
    ".reveal h1, h2, h0, h3, p, ul, ol {\n",
    "    font-family: \"Arial\"\n",
    "}\n",
    "</style>"
   ]
  },
  {
   "cell_type": "code",
   "execution_count": 1,
   "metadata": {
    "collapsed": false,
    "slideshow": {
     "slide_type": "skip"
    }
   },
   "outputs": [],
   "source": [
    "import lifemodels as lms\n",
    "import pandas as pd\n",
    "import numpy as np\n",
    "import matplotlib.pyplot as plt\n",
    "import os\n",
    "\n",
    "%matplotlib inline\n",
    "\n",
    "os.chdir(\"/Users/user/Work/lifemodels/examples\")"
   ]
  },
  {
   "cell_type": "markdown",
   "metadata": {
    "slideshow": {
     "slide_type": "slide"
    }
   },
   "source": [
    "![alt text](http://a.fsdn.com/allura/p/deday/icon \"\")  `lifemodels`\n",
    "=======\n",
    "\n",
    "What is it?\n",
    "-----------\n",
    "\n",
    "**lifemodels** is a Python package for fitting lifespan data to a number of models using MLE.  It also implements GLM (generalized linear model) for those lifespan distributions.\n",
    "\n",
    "**deday** stands for *Demography Data Analyses*.  The older versions can be found [here](http://sourceforge.net/projects/deday/).\n",
    "\n",
    "**[Read the minimal example](http://nbviewer.ipython.org/github/ctzhu/lifemodels/blob/master/examples/Intro_example.ipynb)** for a simple workflow in `IPython Notebook` \n",
    "\n",
    "Where to find support?\n",
    "-------------\n",
    "\n",
    "[**Read the documentation**](https://github.com/ctzhu/lifemodels/blob/master/doc/Guide.txt) for instructions.\n",
    "\n",
    "If you use deday for published research, please contact me as `lifemodels` has not yet been published.\n",
    "To install, run `pip install git+https://github.com/ctzhu/lifemodels`"
   ]
  },
  {
   "cell_type": "markdown",
   "metadata": {
    "slideshow": {
     "slide_type": "slide"
    }
   },
   "source": [
    "## • Time-to-event data\n",
    "• Engineering: Reliability (MTTF)\n",
    "\n",
    "• Marketing: Attribution (web cookie expiration, time-dependent binary responce)\n",
    "\n",
    "• Biomedical science: lifespan, survivorship.\n",
    "\n",
    "## • Censor and missing data\n",
    "• Event time is $[T0, T1)$\n",
    "\n",
    "• T0==T1, or only know T0, or only know T1, ..."
   ]
  },
  {
   "cell_type": "markdown",
   "metadata": {
    "slideshow": {
     "slide_type": "slide"
    }
   },
   "source": [
    "## • Time-dependent and Time-independent components:\n",
    "• Benjamin Gompertz & William Makeham.\n",
    "\n",
    "• [Gompertz Makeham law of mortality](https://en.wikipedia.org/wiki/Gompertz%E2%80%93Makeham_law_of_mortality):\n",
    "$H(t)=\\alpha e^{\\beta t} + C$\n",
    "\n",
    "• Example: Estimated probability of a person dying at each age, for the U.S. in 2003\n",
    "\n",
    "<table>\n",
    "  <tr>\n",
    "    <th> <img src=\"https://upload.wikimedia.org/wikipedia/commons/a/a9/Gompertz.png\" alt=\"Gompertz\" height=\"200\" width=\"200\"> </th>\n",
    "    <th> <img src=\"https://s3.amazonaws.com/nodeimages/87605343/images/87605343_0_nocrop.jpg\" alt=\"Makeham\" height=\"200\" width=\"200\"> </th>\n",
    "    <th> <img src=\"https://upload.wikimedia.org/wikipedia/en/4/4d/USGompertzCurve.svg\" alt=\"Makeham\" height=\"300\" width=\"300\"> </th>\n",
    "  </tr>\n",
    "</table>"
   ]
  },
  {
   "cell_type": "markdown",
   "metadata": {
    "slideshow": {
     "slide_type": "slide"
    }
   },
   "source": [
    "## *Basic usage*\n",
    "##  · Read the data and create a survival object using `.survt_df()` method\n",
    "### · Data taken from Clive McCay *et.al* :\n",
    "\n",
    "*The effect of retarded growth upon the length of life span and upon the ultimate body size. J Nutr. 1935;10:63–79*\n",
    "\n",
    "### · Credited with the discovery of dietray restriction (Eat less live longer)\n",
    "### · Two treatments: `Diet` and `Sex`. `III` type diet being the richest.\n",
    "### · Death events of rat recorded over ~1500 days."
   ]
  },
  {
   "cell_type": "code",
   "execution_count": 2,
   "metadata": {
    "collapsed": false,
    "slideshow": {
     "slide_type": "slide"
    }
   },
   "outputs": [
    {
     "data": {
      "text/html": [
       "<div>\n",
       "<table border=\"1\" class=\"dataframe\">\n",
       "  <thead>\n",
       "    <tr style=\"text-align: right;\">\n",
       "      <th></th>\n",
       "      <th>Diet</th>\n",
       "      <th>Sex</th>\n",
       "      <th>Time0</th>\n",
       "      <th>Time1</th>\n",
       "    </tr>\n",
       "  </thead>\n",
       "  <tbody>\n",
       "    <tr>\n",
       "      <th>0</th>\n",
       "      <td>II</td>\n",
       "      <td>Male</td>\n",
       "      <td>41</td>\n",
       "      <td>41</td>\n",
       "    </tr>\n",
       "    <tr>\n",
       "      <th>1</th>\n",
       "      <td>II</td>\n",
       "      <td>Female</td>\n",
       "      <td>48</td>\n",
       "      <td>48</td>\n",
       "    </tr>\n",
       "    <tr>\n",
       "      <th>2</th>\n",
       "      <td>II</td>\n",
       "      <td>Female</td>\n",
       "      <td>62</td>\n",
       "      <td>62</td>\n",
       "    </tr>\n",
       "    <tr>\n",
       "      <th>3</th>\n",
       "      <td>I</td>\n",
       "      <td>Male</td>\n",
       "      <td>71</td>\n",
       "      <td>71</td>\n",
       "    </tr>\n",
       "    <tr>\n",
       "      <th>4</th>\n",
       "      <td>I</td>\n",
       "      <td>Female</td>\n",
       "      <td>74</td>\n",
       "      <td>74</td>\n",
       "    </tr>\n",
       "  </tbody>\n",
       "</table>\n",
       "</div>"
      ],
      "text/plain": [
       "  Diet     Sex  Time0  Time1\n",
       "0   II    Male     41     41\n",
       "1   II  Female     48     48\n",
       "2   II  Female     62     62\n",
       "3    I    Male     71     71\n",
       "4    I  Female     74     74"
      ]
     },
     "execution_count": 2,
     "metadata": {},
     "output_type": "execute_result"
    }
   ],
   "source": [
    "df   = pd.read_csv('mckay.txt', sep=' ')\n",
    "df['Time1'] = df.Time0 \n",
    "#Time-to-event data, Time0 is the left bound, Time1 is the right bound.\n",
    "s_df = lms.s_models.survt_df(df)\n",
    "df.head()"
   ]
  },
  {
   "cell_type": "markdown",
   "metadata": {
    "slideshow": {
     "slide_type": "slide"
    }
   },
   "source": [
    "## · Specify the model and create the model fit object using `.distfit_df()` method"
   ]
  },
  {
   "cell_type": "code",
   "execution_count": 3,
   "metadata": {
    "collapsed": true,
    "slideshow": {
     "slide_type": "fragment"
    }
   },
   "outputs": [],
   "source": [
    "gp2_model = lms.s_models.distfit_df(s_df, 'gp2')\n",
    "gp3_model = lms.s_models.distfit_df(s_df, 'gp3')\n",
    "wb2_model = lms.s_models.distfit_df(s_df, 'wb2')\n",
    "wb3_model = lms.s_models.distfit_df(s_df, 'wb3')\n",
    "gl4_model = lms.s_models.distfit_df(s_df, 'gl4')"
   ]
  },
  {
   "cell_type": "markdown",
   "metadata": {
    "slideshow": {
     "slide_type": "slide"
    }
   },
   "source": [
    "## · Hazard functions of 5 models in this example are:\n",
    "\n",
    "$H(t)=C$\n",
    "\n",
    "Exponential Decay\n",
    "\n",
    "---\n",
    "\n",
    "$H(t)=(\\kappa/\\lambda)\\cdot(t/\\lambda)^{\\kappa-1}$\n",
    "\n",
    "$log(H(t))=log(\\kappa \\cdot \\lambda^{-\\kappa})+(\\kappa-1)\\cdot log(x)$\n",
    "\n",
    "Weibull model (Mortality increase with time in a power function relationship) `'wb2'`\n",
    "\n",
    "---\n",
    "\n",
    "$H(t)=\\alpha e^{\\beta t}$\n",
    "\n",
    "$log(H(t))=log(\\alpha)+ \\beta t $\n",
    "\n",
    "Gompertz model (Mortality increase with time Exponentially) `'gp2'`\n",
    "\n",
    "---\n",
    "\n",
    "$H(t)=\\alpha e^{\\beta t} - \\alpha + C$\n",
    "\n",
    "Gompertz-Makehamm model `'gp3'`\n",
    "\n",
    "---\n",
    "\n",
    "$H(t)=(\\kappa/\\lambda)\\cdot(t/\\lambda)^{\\kappa-1} + C$\n",
    "\n",
    "Weibull-Makehamm model `'wb3'`\n",
    "\n",
    "---\n",
    "\n",
    "$H(t)=\\frac{\\alpha e^{\\beta t}}{d e^{\\beta t} + 1} - \\frac{\\alpha}{d+1} + C$\n",
    "\n",
    "Gompertz-logistic model `'gl4'`"
   ]
  },
  {
   "cell_type": "markdown",
   "metadata": {
    "slideshow": {
     "slide_type": "slide"
    }
   },
   "source": [
    "## · MLE parameter estimates"
   ]
  },
  {
   "cell_type": "code",
   "execution_count": 4,
   "metadata": {
    "collapsed": false,
    "slideshow": {
     "slide_type": "fragment"
    }
   },
   "outputs": [
    {
     "data": {
      "text/html": [
       "<div>\n",
       "<table border=\"1\" class=\"dataframe\">\n",
       "  <thead>\n",
       "    <tr style=\"text-align: right;\">\n",
       "      <th></th>\n",
       "      <th></th>\n",
       "      <th>alpha</th>\n",
       "      <th>beta</th>\n",
       "      <th>c</th>\n",
       "      <th>logL</th>\n",
       "      <th>optimizer_flag</th>\n",
       "    </tr>\n",
       "    <tr>\n",
       "      <th>Diet</th>\n",
       "      <th>Sex</th>\n",
       "      <th></th>\n",
       "      <th></th>\n",
       "      <th></th>\n",
       "      <th></th>\n",
       "      <th></th>\n",
       "    </tr>\n",
       "  </thead>\n",
       "  <tbody>\n",
       "    <tr>\n",
       "      <th rowspan=\"2\" valign=\"top\">I</th>\n",
       "      <th>Female</th>\n",
       "      <td>-10.092006</td>\n",
       "      <td>-5.256360</td>\n",
       "      <td>-9.161662</td>\n",
       "      <td>150.595193</td>\n",
       "      <td>0</td>\n",
       "    </tr>\n",
       "    <tr>\n",
       "      <th>Male</th>\n",
       "      <td>-7.456580</td>\n",
       "      <td>-5.600244</td>\n",
       "      <td>-8.244084</td>\n",
       "      <td>94.532260</td>\n",
       "      <td>0</td>\n",
       "    </tr>\n",
       "    <tr>\n",
       "      <th rowspan=\"2\" valign=\"top\">II</th>\n",
       "      <th>Female</th>\n",
       "      <td>-12.035084</td>\n",
       "      <td>-5.164614</td>\n",
       "      <td>-7.347579</td>\n",
       "      <td>166.641636</td>\n",
       "      <td>0</td>\n",
       "    </tr>\n",
       "    <tr>\n",
       "      <th>Male</th>\n",
       "      <td>-11.646710</td>\n",
       "      <td>-5.201537</td>\n",
       "      <td>-7.604894</td>\n",
       "      <td>93.726082</td>\n",
       "      <td>0</td>\n",
       "    </tr>\n",
       "    <tr>\n",
       "      <th rowspan=\"2\" valign=\"top\">III</th>\n",
       "      <th>Female</th>\n",
       "      <td>-9.134449</td>\n",
       "      <td>-5.600461</td>\n",
       "      <td>-8.840873</td>\n",
       "      <td>134.671557</td>\n",
       "      <td>0</td>\n",
       "    </tr>\n",
       "    <tr>\n",
       "      <th>Male</th>\n",
       "      <td>-9.521764</td>\n",
       "      <td>-5.493469</td>\n",
       "      <td>-34.652509</td>\n",
       "      <td>103.225741</td>\n",
       "      <td>0</td>\n",
       "    </tr>\n",
       "  </tbody>\n",
       "</table>\n",
       "</div>"
      ],
      "text/plain": [
       "                 alpha      beta          c        logL  optimizer_flag\n",
       "Diet Sex                                                               \n",
       "I    Female -10.092006 -5.256360  -9.161662  150.595193               0\n",
       "     Male    -7.456580 -5.600244  -8.244084   94.532260               0\n",
       "II   Female -12.035084 -5.164614  -7.347579  166.641636               0\n",
       "     Male   -11.646710 -5.201537  -7.604894   93.726082               0\n",
       "III  Female  -9.134449 -5.600461  -8.840873  134.671557               0\n",
       "     Male    -9.521764 -5.493469 -34.652509  103.225741               0"
      ]
     },
     "execution_count": 4,
     "metadata": {},
     "output_type": "execute_result"
    }
   ],
   "source": [
    "gp3_model.mdl_all_free"
   ]
  },
  {
   "cell_type": "code",
   "execution_count": 5,
   "metadata": {
    "collapsed": false,
    "slideshow": {
     "slide_type": "fragment"
    }
   },
   "outputs": [
    {
     "data": {
      "text/plain": [
       "array([  -9.13151133,   -5.6333212 ,   -8.08416424,  760.39933924,    0.        ])"
      ]
     },
     "execution_count": 5,
     "metadata": {},
     "output_type": "execute_result"
    }
   ],
   "source": [
    "gp3_model.mdl_all_cnst"
   ]
  },
  {
   "cell_type": "markdown",
   "metadata": {
    "slideshow": {
     "slide_type": "slide"
    }
   },
   "source": [
    "## · Variance of the parameter estimates\n",
    "\n",
    "It might not always be there, due to float overflow and underflow problems"
   ]
  },
  {
   "cell_type": "code",
   "execution_count": 6,
   "metadata": {
    "collapsed": false,
    "slideshow": {
     "slide_type": "fragment"
    }
   },
   "outputs": [
    {
     "data": {
      "text/html": [
       "<div>\n",
       "<table border=\"1\" class=\"dataframe\">\n",
       "  <thead>\n",
       "    <tr style=\"text-align: right;\">\n",
       "      <th></th>\n",
       "      <th></th>\n",
       "      <th>alpha</th>\n",
       "      <th>beta</th>\n",
       "      <th>c</th>\n",
       "    </tr>\n",
       "    <tr>\n",
       "      <th>Diet</th>\n",
       "      <th>Sex</th>\n",
       "      <th></th>\n",
       "      <th></th>\n",
       "      <th></th>\n",
       "    </tr>\n",
       "  </thead>\n",
       "  <tbody>\n",
       "    <tr>\n",
       "      <th rowspan=\"2\" valign=\"top\">I</th>\n",
       "      <th>Female</th>\n",
       "      <td>1.128514</td>\n",
       "      <td>0.239391</td>\n",
       "      <td>1.227479</td>\n",
       "    </tr>\n",
       "    <tr>\n",
       "      <th>Male</th>\n",
       "      <td>1.531880</td>\n",
       "      <td>0.588591</td>\n",
       "      <td>1.769442</td>\n",
       "    </tr>\n",
       "    <tr>\n",
       "      <th rowspan=\"2\" valign=\"top\">II</th>\n",
       "      <th>Female</th>\n",
       "      <td>2.126095</td>\n",
       "      <td>0.317832</td>\n",
       "      <td>0.375416</td>\n",
       "    </tr>\n",
       "    <tr>\n",
       "      <th>Male</th>\n",
       "      <td>3.082429</td>\n",
       "      <td>0.486870</td>\n",
       "      <td>0.654951</td>\n",
       "    </tr>\n",
       "    <tr>\n",
       "      <th rowspan=\"2\" valign=\"top\">III</th>\n",
       "      <th>Female</th>\n",
       "      <td>1.616147</td>\n",
       "      <td>0.429353</td>\n",
       "      <td>1.752450</td>\n",
       "    </tr>\n",
       "    <tr>\n",
       "      <th>Male</th>\n",
       "      <td>NaN</td>\n",
       "      <td>NaN</td>\n",
       "      <td>inf</td>\n",
       "    </tr>\n",
       "  </tbody>\n",
       "</table>\n",
       "</div>"
      ],
      "text/plain": [
       "                alpha      beta         c\n",
       "Diet Sex                                 \n",
       "I    Female  1.128514  0.239391  1.227479\n",
       "     Male    1.531880  0.588591  1.769442\n",
       "II   Female  2.126095  0.317832  0.375416\n",
       "     Male    3.082429  0.486870  0.654951\n",
       "III  Female  1.616147  0.429353  1.752450\n",
       "     Male         NaN       NaN       inf"
      ]
     },
     "execution_count": 6,
     "metadata": {},
     "output_type": "execute_result"
    }
   ],
   "source": [
    "gp3_model.var"
   ]
  },
  {
   "cell_type": "markdown",
   "metadata": {
    "slideshow": {
     "slide_type": "slide"
    }
   },
   "source": [
    "## · log quantile function (time-to-reach-%-of-death estimate):  `.logq()` method\n",
    "\n",
    ".`logq(key, q)`, `key` is genotype-food combination here. `q` is that target % of death, default to 50%, therefore by default it returns the estimate for medium lifespan.\n",
    "\n",
    ".`logq()` method and `.logq_nc()` method are similar: the latter ignores the Makehamm term ($C$), if there is one."
   ]
  },
  {
   "cell_type": "code",
   "execution_count": 7,
   "metadata": {
    "collapsed": false,
    "slideshow": {
     "slide_type": "fragment"
    }
   },
   "outputs": [
    {
     "data": {
      "text/plain": [
       "(6.7381684156777482, 6.7561002844234102)"
      ]
     },
     "execution_count": 7,
     "metadata": {},
     "output_type": "execute_result"
    }
   ],
   "source": [
    "(gp3_model.logq(('I', 'Female')), gp3_model.logq_nc(('I', 'Female')))"
   ]
  },
  {
   "cell_type": "code",
   "execution_count": 8,
   "metadata": {
    "collapsed": false,
    "slideshow": {
     "slide_type": "fragment"
    }
   },
   "outputs": [
    {
     "data": {
      "text/html": [
       "<div>\n",
       "<table border=\"1\" class=\"dataframe\">\n",
       "  <thead>\n",
       "    <tr style=\"text-align: right;\">\n",
       "      <th></th>\n",
       "      <th></th>\n",
       "      <th>With_C</th>\n",
       "      <th>Without_C</th>\n",
       "    </tr>\n",
       "    <tr>\n",
       "      <th>Diet</th>\n",
       "      <th>Sex</th>\n",
       "      <th></th>\n",
       "      <th></th>\n",
       "    </tr>\n",
       "  </thead>\n",
       "  <tbody>\n",
       "    <tr>\n",
       "      <th rowspan=\"2\" valign=\"top\">I</th>\n",
       "      <th>Female</th>\n",
       "      <td>844.013438</td>\n",
       "      <td>859.284688</td>\n",
       "    </tr>\n",
       "    <tr>\n",
       "      <th>Male</th>\n",
       "      <td>504.323750</td>\n",
       "      <td>457.970938</td>\n",
       "    </tr>\n",
       "    <tr>\n",
       "      <th rowspan=\"2\" valign=\"top\">II</th>\n",
       "      <th>Female</th>\n",
       "      <td>862.616125</td>\n",
       "      <td>1138.258375</td>\n",
       "    </tr>\n",
       "    <tr>\n",
       "      <th>Male</th>\n",
       "      <td>915.955188</td>\n",
       "      <td>1104.003063</td>\n",
       "    </tr>\n",
       "    <tr>\n",
       "      <th rowspan=\"2\" valign=\"top\">III</th>\n",
       "      <th>Female</th>\n",
       "      <td>856.054813</td>\n",
       "      <td>868.123188</td>\n",
       "    </tr>\n",
       "    <tr>\n",
       "      <th>Male</th>\n",
       "      <td>918.315313</td>\n",
       "      <td>896.341313</td>\n",
       "    </tr>\n",
       "  </tbody>\n",
       "</table>\n",
       "</div>"
      ],
      "text/plain": [
       "                 With_C    Without_C\n",
       "Diet Sex                            \n",
       "I    Female  844.013438   859.284688\n",
       "     Male    504.323750   457.970938\n",
       "II   Female  862.616125  1138.258375\n",
       "     Male    915.955188  1104.003063\n",
       "III  Female  856.054813   868.123188\n",
       "     Male    918.315313   896.341313"
      ]
     },
     "execution_count": 8,
     "metadata": {},
     "output_type": "execute_result"
    }
   ],
   "source": [
    "medium_df = pd.DataFrame({'With_C'   : map(gp3_model.logq,    gp3_model.mdl_all_free.index),\n",
    "                          'Without_C': map(gp3_model.logq_nc, gp3_model.mdl_all_free.index)},\n",
    "                         index=gp3_model.mdl_all_free.index)\n",
    "np.exp(medium_df)"
   ]
  },
  {
   "cell_type": "markdown",
   "metadata": {
    "slideshow": {
     "slide_type": "slide"
    }
   },
   "source": [
    "## · Get the estimated log mean lifespan using `.logm()` method "
   ]
  },
  {
   "cell_type": "code",
   "execution_count": 9,
   "metadata": {
    "collapsed": false,
    "slideshow": {
     "slide_type": "fragment"
    }
   },
   "outputs": [
    {
     "data": {
      "text/plain": [
       "(6.6869775131919171, 6.7150616442887863)"
      ]
     },
     "execution_count": 9,
     "metadata": {},
     "output_type": "execute_result"
    }
   ],
   "source": [
    "(gp3_model.logm(('I', 'Female')), gp3_model.logm_nc(('I', 'Female')))"
   ]
  },
  {
   "cell_type": "markdown",
   "metadata": {
    "slideshow": {
     "slide_type": "fragment"
    }
   },
   "source": [
    "## · ... and the $\\sigma^2$ for calculating the confidence interval for survival time using `.logt_var()`"
   ]
  },
  {
   "cell_type": "code",
   "execution_count": 10,
   "metadata": {
    "collapsed": false,
    "slideshow": {
     "slide_type": "fragment"
    }
   },
   "outputs": [
    {
     "data": {
      "text/plain": [
       "0.0018048249213575979"
      ]
     },
     "execution_count": 10,
     "metadata": {},
     "output_type": "execute_result"
    }
   ],
   "source": [
    "gp3_model.logt_var(('I', 'Female'), 6.6869775131919171)"
   ]
  },
  {
   "cell_type": "markdown",
   "metadata": {
    "slideshow": {
     "slide_type": "slide"
    }
   },
   "source": [
    "## · Plot harzard plot, survival plot and other plots using `.plot()` method"
   ]
  },
  {
   "cell_type": "code",
   "execution_count": 11,
   "metadata": {
    "collapsed": false,
    "slideshow": {
     "slide_type": "fragment"
    }
   },
   "outputs": [
    {
     "data": {
      "text/plain": [
       "<matplotlib.text.Text at 0x10c857cd0>"
      ]
     },
     "execution_count": 11,
     "metadata": {},
     "output_type": "execute_result"
    },
    {
     "data": {
      "image/png": "[encoded data removed]",
      "text/plain": [
       "<matplotlib.figure.Figure at 0x10c8461d0>"
      ]
     },
     "metadata": {},
     "output_type": "display_data"
    }
   ],
   "source": [
    "f, axes = plt.subplots(2, 3, figsize=(14, 8), sharex=True, sharey=True)\n",
    "axes = axes.ravel()\n",
    "for ax, key in zip(axes, gp3_model.mdl_all_free.index.tolist()):\n",
    "    gp3_model.plot(key, np.linspace(0,1400,100),ax,'hzd')\n",
    "    ax.set_ylim((-10,-2))\n",
    "    ax.set_title(key)\n",
    "plt.suptitle('log-harzard plot', fontsize=20)"
   ]
  },
  {
   "cell_type": "code",
   "execution_count": 12,
   "metadata": {
    "collapsed": false,
    "slideshow": {
     "slide_type": "slide"
    }
   },
   "outputs": [
    {
     "data": {
      "text/plain": [
       "<matplotlib.text.Text at 0x10cf54d90>"
      ]
     },
     "execution_count": 12,
     "metadata": {},
     "output_type": "execute_result"
    },
    {
     "data": {
      "image/png": "[encoded data removed]",
      "text/plain": [
       "<matplotlib.figure.Figure at 0x10c82aad0>"
      ]
     },
     "metadata": {},
     "output_type": "display_data"
    }
   ],
   "source": [
    "f, axes = plt.subplots(2, 3, figsize=(14, 8), sharex=True, sharey=True)\n",
    "axes = axes.ravel()\n",
    "for ax, key in zip(axes, gp3_model.mdl_all_free.index.tolist()):\n",
    "    gp3_model.plot(key, np.linspace(0,1400,100),ax,'sf')\n",
    "    ax.set_ylim((-0.01,1.01))\n",
    "    ax.set_title(key)\n",
    "plt.suptitle('survival plot', fontsize=20)"
   ]
  },
  {
   "cell_type": "markdown",
   "metadata": {
    "slideshow": {
     "slide_type": "slide"
    }
   },
   "source": [
    "## · Plot multidimensional confidence regions with  `.contourf_2D()` method\n",
    "### · *AKA. Why Gompertz distribution is rarely worked on*."
   ]
  },
  {
   "cell_type": "markdown",
   "metadata": {
    "slideshow": {
     "slide_type": "slide"
    }
   },
   "source": [
    "### · Weibull model is a well-conditionned quadratic function"
   ]
  },
  {
   "cell_type": "code",
   "execution_count": 13,
   "metadata": {
    "collapsed": false,
    "slideshow": {
     "slide_type": "fragment"
    }
   },
   "outputs": [
    {
     "data": {
      "text/plain": [
       "<matplotlib.text.Text at 0x10de9fa10>"
      ]
     },
     "execution_count": 13,
     "metadata": {},
     "output_type": "execute_result"
    },
    {
     "data": {
      "image/png": "[encoded data removed]",
      "text/plain": [
       "<matplotlib.figure.Figure at 0x10c857890>"
      ]
     },
     "metadata": {},
     "output_type": "display_data"
    }
   ],
   "source": [
    "f, (ax, cax) = plt.subplots(1, 2, gridspec_kw={'width_ratios':[20,1], 'wspace': 0.5})\n",
    "wb2_model.contourf_2D(('I','Female'),\n",
    "                       ax, cax,\n",
    "                      (np.linspace(-5, 5, 41),\n",
    "                       np.linspace(-4, 4, 45)))\n",
    "plt.suptitle('Weibull Model 2D Conf. Region')"
   ]
  },
  {
   "cell_type": "markdown",
   "metadata": {
    "slideshow": {
     "slide_type": "slide"
    }
   },
   "source": [
    "### · Gompertz model is an ill-conditionned very non-quadratic function."
   ]
  },
  {
   "cell_type": "code",
   "execution_count": 14,
   "metadata": {
    "collapsed": false,
    "slideshow": {
     "slide_type": "fragment"
    }
   },
   "outputs": [
    {
     "data": {
      "text/plain": [
       "<matplotlib.text.Text at 0x10ee53710>"
      ]
     },
     "execution_count": 14,
     "metadata": {},
     "output_type": "execute_result"
    },
    {
     "data": {
      "image/png": "[encoded data removed]",
      "text/plain": [
       "<matplotlib.figure.Figure at 0x104667e50>"
      ]
     },
     "metadata": {},
     "output_type": "display_data"
    }
   ],
   "source": [
    "f, (ax, cax) = plt.subplots(1, 2, gridspec_kw={'width_ratios':[20,1], 'wspace': 0.5})\n",
    "gp2_model.contourf_2D(('I','Female'),\n",
    "                       ax, cax,\n",
    "                      (np.linspace(-5, 5, 41),\n",
    "                       np.linspace(-4, 4, 45)))\n",
    "plt.suptitle('Gompertz Model 2D Conf. Region')"
   ]
  },
  {
   "cell_type": "markdown",
   "metadata": {
    "slideshow": {
     "slide_type": "slide"
    }
   },
   "source": [
    "### · Challenge of Gompertz model: precision lost due to overflow/underflow."
   ]
  },
  {
   "cell_type": "code",
   "execution_count": 15,
   "metadata": {
    "collapsed": false,
    "slideshow": {
     "slide_type": "fragment"
    }
   },
   "outputs": [
    {
     "data": {
      "text/plain": [
       "<matplotlib.text.Text at 0x10f10d910>"
      ]
     },
     "execution_count": 15,
     "metadata": {},
     "output_type": "execute_result"
    },
    {
     "data": {
      "image/png": "[encoded data removed]",
      "text/plain": [
       "<matplotlib.figure.Figure at 0x10c7fbfd0>"
      ]
     },
     "metadata": {},
     "output_type": "display_data"
    }
   ],
   "source": [
    "f, (ax, cax) = plt.subplots(1, 2, gridspec_kw={'width_ratios':[20,1], 'wspace': 0.5})\n",
    "gp2_model.contourf_2D(('I','Female'),\n",
    "                       ax, cax,\n",
    "                      (np.linspace(-5, 5, 41),\n",
    "                       np.linspace(-4, 4, 45)),\n",
    "                      levels=np.linspace(150,5000,10))\n",
    "plt.suptitle('Gompertz Model 2D Conf. Region')"
   ]
  },
  {
   "cell_type": "markdown",
   "metadata": {
    "slideshow": {
     "slide_type": "slide"
    }
   },
   "source": [
    "### · Gompertz-Makeham model: multidimensional optimization problem is even harder"
   ]
  },
  {
   "cell_type": "code",
   "execution_count": 16,
   "metadata": {
    "collapsed": false,
    "slideshow": {
     "slide_type": "fragment"
    }
   },
   "outputs": [
    {
     "data": {
      "text/plain": [
       "<matplotlib.text.Text at 0x10f70db90>"
      ]
     },
     "execution_count": 16,
     "metadata": {},
     "output_type": "execute_result"
    },
    {
     "data": {
      "image/png": "[encoded data removed]",
      "text/plain": [
       "<matplotlib.figure.Figure at 0x10cf54e90>"
      ]
     },
     "metadata": {},
     "output_type": "display_data"
    }
   ],
   "source": [
    "f, (ax1, ax2, ax3, cax) = plt.subplots(1, 4, \n",
    "                                       gridspec_kw={'width_ratios':[20,20,20,1], 'wspace': 0.5}, \n",
    "                                       figsize=(16,4))\n",
    "\n",
    "gp3_model.contourf_2D(('I','Female'),\n",
    "                      ax1, cax,\n",
    "                      (np.linspace(-5, 5, 41),\n",
    "                       np.linspace(-4, 4, 45),\n",
    "                       np.linspace(0,0,1)))\n",
    "gp3_model.contourf_2D(('I','Female'),\n",
    "                      ax2, cax,\n",
    "                      (np.linspace(-5, 5, 41),\n",
    "                       np.linspace(0,0,1),\n",
    "                       np.linspace(-4, 4, 45)))\n",
    "gp3_model.contourf_2D(('I','Female'),\n",
    "                      ax3, cax,\n",
    "                      (np.linspace(0,0,1),\n",
    "                       np.linspace(-5, 5, 41),\n",
    "                       np.linspace(-4, 4, 45)))\n",
    "plt.suptitle('Gompertz Model 3D Conf. Region')"
   ]
  },
  {
   "cell_type": "markdown",
   "metadata": {
    "slideshow": {
     "slide_type": "slide"
    }
   },
   "source": [
    "# *Experimental Functionality*\n",
    "\n",
    "## · GLM (generalized linear models) for scale, shape, location, $\\alpha$, $\\beta$, $\\kappa$, $\\lambda$... (you name it)\n",
    "## · ... and partially fixed models too."
   ]
  },
  {
   "cell_type": "code",
   "execution_count": 17,
   "metadata": {
    "collapsed": true,
    "slideshow": {
     "slide_type": "fragment"
    }
   },
   "outputs": [],
   "source": [
    "wb2_glm = lms.s_models.model(wb2_model)"
   ]
  },
  {
   "cell_type": "markdown",
   "metadata": {
    "slideshow": {
     "slide_type": "slide"
    }
   },
   "source": [
    "## · With Weibull $\\lambda$ fixed, it is a form of parametric proportional hazard model"
   ]
  },
  {
   "cell_type": "code",
   "execution_count": 18,
   "metadata": {
    "collapsed": false,
    "slideshow": {
     "slide_type": "fragment"
    }
   },
   "outputs": [
    {
     "name": "stdout",
     "output_type": "stream",
     "text": [
      "full model\n",
      "763.455156875\n",
      "1 + Diet + Sex + Diet:Sex\n"
     ]
    },
    {
     "data": {
      "text/html": [
       "<div>\n",
       "<table border=\"1\" class=\"dataframe\">\n",
       "  <thead>\n",
       "    <tr style=\"text-align: right;\">\n",
       "      <th></th>\n",
       "      <th></th>\n",
       "      <th>Estimate</th>\n",
       "      <th>Error</th>\n",
       "      <th>Std_Estm</th>\n",
       "      <th>p</th>\n",
       "      <th>sig_code</th>\n",
       "    </tr>\n",
       "  </thead>\n",
       "  <tbody>\n",
       "    <tr>\n",
       "      <th>lambda</th>\n",
       "      <th>FIXED</th>\n",
       "      <td>6.798327</td>\n",
       "      <td>0.038464</td>\n",
       "      <td>176.744239</td>\n",
       "      <td>0.000000e+00</td>\n",
       "      <td>***</td>\n",
       "    </tr>\n",
       "    <tr>\n",
       "      <th rowspan=\"6\" valign=\"top\">kappa</th>\n",
       "      <th>Intercept</th>\n",
       "      <td>1.305685</td>\n",
       "      <td>0.176284</td>\n",
       "      <td>7.406721</td>\n",
       "      <td>1.294604e-13</td>\n",
       "      <td>***</td>\n",
       "    </tr>\n",
       "    <tr>\n",
       "      <th>Diet[T.II]</th>\n",
       "      <td>-0.741023</td>\n",
       "      <td>0.250665</td>\n",
       "      <td>-2.956224</td>\n",
       "      <td>3.114305e-03</td>\n",
       "      <td>**</td>\n",
       "    </tr>\n",
       "    <tr>\n",
       "      <th>Diet[T.III]</th>\n",
       "      <td>-0.224766</td>\n",
       "      <td>0.253053</td>\n",
       "      <td>-0.888219</td>\n",
       "      <td>3.744232e-01</td>\n",
       "      <td></td>\n",
       "    </tr>\n",
       "    <tr>\n",
       "      <th>Sex[T.Male]</th>\n",
       "      <td>-0.752211</td>\n",
       "      <td>0.300749</td>\n",
       "      <td>-2.501121</td>\n",
       "      <td>1.238009e-02</td>\n",
       "      <td>*</td>\n",
       "    </tr>\n",
       "    <tr>\n",
       "      <th>Diet[T.II]:Sex[T.Male]</th>\n",
       "      <td>0.860879</td>\n",
       "      <td>0.424572</td>\n",
       "      <td>2.027641</td>\n",
       "      <td>4.259694e-02</td>\n",
       "      <td>*</td>\n",
       "    </tr>\n",
       "    <tr>\n",
       "      <th>Diet[T.III]:Sex[T.Male]</th>\n",
       "      <td>0.994089</td>\n",
       "      <td>0.401105</td>\n",
       "      <td>2.478376</td>\n",
       "      <td>1.319818e-02</td>\n",
       "      <td>*</td>\n",
       "    </tr>\n",
       "  </tbody>\n",
       "</table>\n",
       "</div>"
      ],
      "text/plain": [
       "                                Estimate     Error    Std_Estm             p  \\\n",
       "lambda FIXED                    6.798327  0.038464  176.744239  0.000000e+00   \n",
       "kappa  Intercept                1.305685  0.176284    7.406721  1.294604e-13   \n",
       "       Diet[T.II]              -0.741023  0.250665   -2.956224  3.114305e-03   \n",
       "       Diet[T.III]             -0.224766  0.253053   -0.888219  3.744232e-01   \n",
       "       Sex[T.Male]             -0.752211  0.300749   -2.501121  1.238009e-02   \n",
       "       Diet[T.II]:Sex[T.Male]   0.860879  0.424572    2.027641  4.259694e-02   \n",
       "       Diet[T.III]:Sex[T.Male]  0.994089  0.401105    2.478376  1.319818e-02   \n",
       "\n",
       "                               sig_code  \n",
       "lambda FIXED                        ***  \n",
       "kappa  Intercept                    ***  \n",
       "       Diet[T.II]                    **  \n",
       "       Diet[T.III]                       \n",
       "       Sex[T.Male]                    *  \n",
       "       Diet[T.II]:Sex[T.Male]         *  \n",
       "       Diet[T.III]:Sex[T.Male]        *  "
      ]
     },
     "execution_count": 18,
     "metadata": {},
     "output_type": "execute_result"
    }
   ],
   "source": [
    "wb2_glm.fit_partial_model('Diet*Sex', [0])"
   ]
  },
  {
   "cell_type": "markdown",
   "metadata": {
    "slideshow": {
     "slide_type": "slide"
    }
   },
   "source": [
    "## · With Weibull $\\kappa$ fixed, it is a from of ALT (Accelerated life testing) or parametric survival regression model\n",
    "\n",
    "## · `R` does it too, let's compare the solutions"
   ]
  },
  {
   "cell_type": "code",
   "execution_count": 19,
   "metadata": {
    "collapsed": false,
    "slideshow": {
     "slide_type": "fragment"
    }
   },
   "outputs": [
    {
     "name": "stdout",
     "output_type": "stream",
     "text": [
      "full model\n",
      "764.764241985\n",
      "1 + Diet + Sex + Diet:Sex\n"
     ]
    },
    {
     "data": {
      "text/html": [
       "<div>\n",
       "<table border=\"1\" class=\"dataframe\">\n",
       "  <thead>\n",
       "    <tr style=\"text-align: right;\">\n",
       "      <th></th>\n",
       "      <th></th>\n",
       "      <th>Estimate</th>\n",
       "      <th>Error</th>\n",
       "      <th>Std_Estm</th>\n",
       "      <th>p</th>\n",
       "      <th>sig_code</th>\n",
       "    </tr>\n",
       "  </thead>\n",
       "  <tbody>\n",
       "    <tr>\n",
       "      <th rowspan=\"6\" valign=\"top\">lambda</th>\n",
       "      <th>Intercept</th>\n",
       "      <td>6.751581</td>\n",
       "      <td>0.082636</td>\n",
       "      <td>81.703078</td>\n",
       "      <td>0.000000e+00</td>\n",
       "      <td>***</td>\n",
       "    </tr>\n",
       "    <tr>\n",
       "      <th>Diet[T.II]</th>\n",
       "      <td>0.077556</td>\n",
       "      <td>0.115595</td>\n",
       "      <td>0.670935</td>\n",
       "      <td>5.022621e-01</td>\n",
       "      <td></td>\n",
       "    </tr>\n",
       "    <tr>\n",
       "      <th>Diet[T.III]</th>\n",
       "      <td>0.046200</td>\n",
       "      <td>0.120943</td>\n",
       "      <td>0.382001</td>\n",
       "      <td>7.024608e-01</td>\n",
       "      <td></td>\n",
       "    </tr>\n",
       "    <tr>\n",
       "      <th>Sex[T.Male]</th>\n",
       "      <td>-0.424428</td>\n",
       "      <td>0.132148</td>\n",
       "      <td>-3.211772</td>\n",
       "      <td>1.319189e-03</td>\n",
       "      <td>**</td>\n",
       "    </tr>\n",
       "    <tr>\n",
       "      <th>Diet[T.II]:Sex[T.Male]</th>\n",
       "      <td>0.445991</td>\n",
       "      <td>0.188387</td>\n",
       "      <td>2.367423</td>\n",
       "      <td>1.791244e-02</td>\n",
       "      <td>*</td>\n",
       "    </tr>\n",
       "    <tr>\n",
       "      <th>Diet[T.III]:Sex[T.Male]</th>\n",
       "      <td>0.472587</td>\n",
       "      <td>0.187643</td>\n",
       "      <td>2.518538</td>\n",
       "      <td>1.178431e-02</td>\n",
       "      <td>*</td>\n",
       "    </tr>\n",
       "    <tr>\n",
       "      <th>kappa</th>\n",
       "      <th>FIXED</th>\n",
       "      <td>0.950563</td>\n",
       "      <td>0.083379</td>\n",
       "      <td>11.400464</td>\n",
       "      <td>4.158974e-30</td>\n",
       "      <td>***</td>\n",
       "    </tr>\n",
       "  </tbody>\n",
       "</table>\n",
       "</div>"
      ],
      "text/plain": [
       "                                Estimate     Error   Std_Estm             p  \\\n",
       "lambda Intercept                6.751581  0.082636  81.703078  0.000000e+00   \n",
       "       Diet[T.II]               0.077556  0.115595   0.670935  5.022621e-01   \n",
       "       Diet[T.III]              0.046200  0.120943   0.382001  7.024608e-01   \n",
       "       Sex[T.Male]             -0.424428  0.132148  -3.211772  1.319189e-03   \n",
       "       Diet[T.II]:Sex[T.Male]   0.445991  0.188387   2.367423  1.791244e-02   \n",
       "       Diet[T.III]:Sex[T.Male]  0.472587  0.187643   2.518538  1.178431e-02   \n",
       "kappa  FIXED                    0.950563  0.083379  11.400464  4.158974e-30   \n",
       "\n",
       "                               sig_code  \n",
       "lambda Intercept                    ***  \n",
       "       Diet[T.II]                        \n",
       "       Diet[T.III]                       \n",
       "       Sex[T.Male]                   **  \n",
       "       Diet[T.II]:Sex[T.Male]         *  \n",
       "       Diet[T.III]:Sex[T.Male]        *  \n",
       "kappa  FIXED                        ***  "
      ]
     },
     "execution_count": 19,
     "metadata": {},
     "output_type": "execute_result"
    }
   ],
   "source": [
    "wb2_glm.fit_partial_model('Diet*Sex', [1])"
   ]
  },
  {
   "cell_type": "markdown",
   "metadata": {
    "slideshow": {
     "slide_type": "slide"
    }
   },
   "source": [
    "### *R results:*\n",
    "\n",
    "```R\n",
    "> S1 <- survreg(Surv(Time0) ~ Diet*Sex, dist='weibull', data=df)\n",
    "> summary(S1)\n",
    "```\n",
    "\n",
    "    Call:\n",
    "    survreg(formula = Surv(Time0) ~ Diet * Sex, data = df, dist = \"weibull\")\n",
    "                      Value Std. Error       z        p\n",
    "    (Intercept)      6.7515     0.0827  81.680 0.00e+00\n",
    "    DietII           0.0776     0.1156   0.671 5.02e-01\n",
    "    DietIII          0.0462     0.1211   0.382 7.03e-01\n",
    "    SexMale         -0.4243     0.1323  -3.208 1.34e-03\n",
    "    DietII:SexMale   0.4459     0.1885   2.366 1.80e-02\n",
    "    DietIII:SexMale  0.4725     0.1881   2.512 1.20e-02\n",
    "    Log(scale)      -0.9506     0.0834 -11.393 4.56e-30\n",
    "\n",
    "    Scale= 0.387 \n",
    "\n",
    "    Weibull distribution\n",
    "    Loglik(model)= -764.8   Loglik(intercept only)= -771.7\n",
    "        Chisq= 13.89 on 5 degrees of freedom, p= 0.016 \n",
    "    Number of Newton-Raphson Iterations: 7 \n",
    "    n= 106 "
   ]
  },
  {
   "cell_type": "markdown",
   "metadata": {
    "slideshow": {
     "slide_type": "slide"
    }
   },
   "source": [
    "## · Model both $\\lambda$ and $\\kappa$\n",
    "## · It is an inference problem, biologists like to assign parameters with biological meanings and like to know if any treatment specifically affects one type of biological process *but* not the others."
   ]
  },
  {
   "cell_type": "code",
   "execution_count": 20,
   "metadata": {
    "collapsed": false,
    "slideshow": {
     "slide_type": "slide"
    }
   },
   "outputs": [
    {
     "name": "stdout",
     "output_type": "stream",
     "text": [
      "full model\n",
      "756.811302667\n",
      "1 + Diet + Sex + Diet:Sex\n"
     ]
    },
    {
     "data": {
      "text/html": [
       "<div>\n",
       "<table border=\"1\" class=\"dataframe\">\n",
       "  <thead>\n",
       "    <tr style=\"text-align: right;\">\n",
       "      <th></th>\n",
       "      <th></th>\n",
       "      <th>Estimate</th>\n",
       "      <th>Error</th>\n",
       "      <th>Std_Estm</th>\n",
       "      <th>p</th>\n",
       "      <th>sig_code</th>\n",
       "    </tr>\n",
       "  </thead>\n",
       "  <tbody>\n",
       "    <tr>\n",
       "      <th rowspan=\"6\" valign=\"top\">lambda</th>\n",
       "      <th>Intercept</th>\n",
       "      <td>6.779874</td>\n",
       "      <td>0.060458</td>\n",
       "      <td>112.142038</td>\n",
       "      <td>0.000000e+00</td>\n",
       "      <td>***</td>\n",
       "    </tr>\n",
       "    <tr>\n",
       "      <th>Diet[T.II]</th>\n",
       "      <td>-0.024163</td>\n",
       "      <td>0.139007</td>\n",
       "      <td>-0.173825</td>\n",
       "      <td>8.620029e-01</td>\n",
       "      <td></td>\n",
       "    </tr>\n",
       "    <tr>\n",
       "      <th>Diet[T.III]</th>\n",
       "      <td>0.034694</td>\n",
       "      <td>0.100518</td>\n",
       "      <td>0.345149</td>\n",
       "      <td>7.299825e-01</td>\n",
       "      <td></td>\n",
       "    </tr>\n",
       "    <tr>\n",
       "      <th>Sex[T.Male]</th>\n",
       "      <td>-0.457921</td>\n",
       "      <td>0.127040</td>\n",
       "      <td>-3.604546</td>\n",
       "      <td>3.126989e-04</td>\n",
       "      <td>***</td>\n",
       "    </tr>\n",
       "    <tr>\n",
       "      <th>Diet[T.II]:Sex[T.Male]</th>\n",
       "      <td>0.513089</td>\n",
       "      <td>0.230077</td>\n",
       "      <td>2.230075</td>\n",
       "      <td>2.574248e-02</td>\n",
       "      <td>*</td>\n",
       "    </tr>\n",
       "    <tr>\n",
       "      <th>Diet[T.III]:Sex[T.Male]</th>\n",
       "      <td>0.534661</td>\n",
       "      <td>0.162749</td>\n",
       "      <td>3.285178</td>\n",
       "      <td>1.019179e-03</td>\n",
       "      <td>**</td>\n",
       "    </tr>\n",
       "    <tr>\n",
       "      <th rowspan=\"6\" valign=\"top\">kappa</th>\n",
       "      <th>Intercept</th>\n",
       "      <td>1.294548</td>\n",
       "      <td>0.177237</td>\n",
       "      <td>7.304042</td>\n",
       "      <td>2.792497e-13</td>\n",
       "      <td>***</td>\n",
       "    </tr>\n",
       "    <tr>\n",
       "      <th>Diet[T.II]</th>\n",
       "      <td>-0.743416</td>\n",
       "      <td>0.254887</td>\n",
       "      <td>-2.916650</td>\n",
       "      <td>3.538121e-03</td>\n",
       "      <td>**</td>\n",
       "    </tr>\n",
       "    <tr>\n",
       "      <th>Diet[T.III]</th>\n",
       "      <td>-0.201293</td>\n",
       "      <td>0.260995</td>\n",
       "      <td>-0.771254</td>\n",
       "      <td>4.405566e-01</td>\n",
       "      <td></td>\n",
       "    </tr>\n",
       "    <tr>\n",
       "      <th>Sex[T.Male]</th>\n",
       "      <td>-0.380653</td>\n",
       "      <td>0.282381</td>\n",
       "      <td>-1.348009</td>\n",
       "      <td>1.776556e-01</td>\n",
       "      <td></td>\n",
       "    </tr>\n",
       "    <tr>\n",
       "      <th>Diet[T.II]:Sex[T.Male]</th>\n",
       "      <td>0.508561</td>\n",
       "      <td>0.416936</td>\n",
       "      <td>1.219757</td>\n",
       "      <td>2.225571e-01</td>\n",
       "      <td></td>\n",
       "    </tr>\n",
       "    <tr>\n",
       "      <th>Diet[T.III]:Sex[T.Male]</th>\n",
       "      <td>0.761791</td>\n",
       "      <td>0.397472</td>\n",
       "      <td>1.916591</td>\n",
       "      <td>5.528997e-02</td>\n",
       "      <td>+</td>\n",
       "    </tr>\n",
       "  </tbody>\n",
       "</table>\n",
       "</div>"
      ],
      "text/plain": [
       "                                Estimate     Error    Std_Estm             p  \\\n",
       "lambda Intercept                6.779874  0.060458  112.142038  0.000000e+00   \n",
       "       Diet[T.II]              -0.024163  0.139007   -0.173825  8.620029e-01   \n",
       "       Diet[T.III]              0.034694  0.100518    0.345149  7.299825e-01   \n",
       "       Sex[T.Male]             -0.457921  0.127040   -3.604546  3.126989e-04   \n",
       "       Diet[T.II]:Sex[T.Male]   0.513089  0.230077    2.230075  2.574248e-02   \n",
       "       Diet[T.III]:Sex[T.Male]  0.534661  0.162749    3.285178  1.019179e-03   \n",
       "kappa  Intercept                1.294548  0.177237    7.304042  2.792497e-13   \n",
       "       Diet[T.II]              -0.743416  0.254887   -2.916650  3.538121e-03   \n",
       "       Diet[T.III]             -0.201293  0.260995   -0.771254  4.405566e-01   \n",
       "       Sex[T.Male]             -0.380653  0.282381   -1.348009  1.776556e-01   \n",
       "       Diet[T.II]:Sex[T.Male]   0.508561  0.416936    1.219757  2.225571e-01   \n",
       "       Diet[T.III]:Sex[T.Male]  0.761791  0.397472    1.916591  5.528997e-02   \n",
       "\n",
       "                               sig_code  \n",
       "lambda Intercept                    ***  \n",
       "       Diet[T.II]                        \n",
       "       Diet[T.III]                       \n",
       "       Sex[T.Male]                  ***  \n",
       "       Diet[T.II]:Sex[T.Male]         *  \n",
       "       Diet[T.III]:Sex[T.Male]       **  \n",
       "kappa  Intercept                    ***  \n",
       "       Diet[T.II]                    **  \n",
       "       Diet[T.III]                       \n",
       "       Sex[T.Male]                       \n",
       "       Diet[T.II]:Sex[T.Male]            \n",
       "       Diet[T.III]:Sex[T.Male]        +  "
      ]
     },
     "execution_count": 20,
     "metadata": {},
     "output_type": "execute_result"
    }
   ],
   "source": [
    "wb2_glm.fit_partial_model('Diet*Sex', [])"
   ]
  },
  {
   "cell_type": "markdown",
   "metadata": {
    "slideshow": {
     "slide_type": "slide"
    }
   },
   "source": [
    "# Notes on Implementation:"
   ]
  },
  {
   "cell_type": "markdown",
   "metadata": {
    "slideshow": {
     "slide_type": "slide"
    }
   },
   "source": [
    "## · log-likelihood calculation is costy\n",
    "## · ... and I want to handle interval censored, right censored, mix censored, etc in one shot\n",
    "## · ... and in some cases I want to avoid precision lost\n",
    "## · Let's do it in `FORTRAN`"
   ]
  },
  {
   "cell_type": "markdown",
   "metadata": {
    "slideshow": {
     "slide_type": "slide"
    }
   },
   "source": [
    "`mortdist.f90`\n",
    "\n",
    "```FORTRAN\n",
    "            subroutine lg3LLK(sx1, sx2, sy, su, ss, sc, n)\n",
    "            double precision, intent(in) :: sx1(n), sx2(n)\n",
    "            double precision, intent(out) :: sy\n",
    "            double precision :: su, ss, sc\n",
    "            integer n, i\n",
    "\n",
    "            real(kind=10) :: x1(n), x2(n)\n",
    "            real(kind=10) :: y\n",
    "            real(kind=10) :: v1, v2, u, s, c\n",
    "\n",
    "            x1= sx1\n",
    "            x2= sx2\n",
    "            u = su\n",
    "            s = ss\n",
    "            c = sc\n",
    "            y = 0.0_10\n",
    "\n",
    "            do 100 i=1, n\n",
    "                v1 = exp((u-x1(i))/s)\n",
    "                if (x1(i) == x2(i)) then\n",
    "                    y = y+log(v1)-log(1.0_10+v1) &\n",
    "                         -c*x1(i) &\n",
    "                         +log(1.0_10/s/(1.0_10+v1)+c)\n",
    "                else\n",
    "                    v2 = exp((u-x2(i))/s)\n",
    "                    y = y+log(v1/(1.0_10+v1)/exp(c*x1(i)) &\n",
    "                             -v2/(1.0_10+v2)/exp(c*x2(i)))\n",
    "                end if\n",
    "    100     continue\n",
    "            sy = dble(y)\n",
    "            end subroutine lg3LLK\n",
    "```"
   ]
  },
  {
   "cell_type": "markdown",
   "metadata": {
    "slideshow": {
     "slide_type": "slide"
    }
   },
   "source": [
    "## · Grid-search (to get initial guess) is costy, calculating derivative is costy\n",
    "## · `scipy.stats` build-in continuous distributions are slow\n",
    "## · Do them in `FORTRAN` as well"
   ]
  },
  {
   "cell_type": "markdown",
   "metadata": {
    "slideshow": {
     "slide_type": "slide"
    }
   },
   "source": [
    "Getting CDF, PDF, SF, and H from one call to avoid calculate the same thing more than once. \n",
    "\n",
    "`mortdist_cpsh.f90` \n",
    "```FORTRAN\n",
    "            subroutine gp2_cpsh(p, x, cdf, pdf, sf, hzd, m, n)\n",
    "            double precision, intent(in) :: p(m), x(n)\n",
    "            double precision, intent(out):: cdf(n), pdf(n), sf(n), hzd(n)\n",
    "            double precision :: a, b\n",
    "            double precision :: ebx(n)\n",
    "            integer :: m, n\n",
    "            a = p(1)\n",
    "            b = p(2)\n",
    "            ebx = exp(b*x)\n",
    "            hzd = a*ebx\n",
    "            sf  = exp(-a/b*(ebx-1.0d0))\n",
    "            pdf = hzd*sf\n",
    "            cdf = 1.0d0-sf\n",
    "            end subroutine gp2_cpsh\n",
    "```"
   ]
  }
 ],
 "metadata": {
  "celltoolbar": "Slideshow",
  "kernelspec": {
   "display_name": "Python 2",
   "language": "python",
   "name": "python2"
  },
  "language_info": {
   "codemirror_mode": {
    "name": "ipython",
    "version": 2
   },
   "file_extension": ".py",
   "mimetype": "text/x-python",
   "name": "python",
   "nbconvert_exporter": "python",
   "pygments_lexer": "ipython2",
   "version": "2.7.11"
  }
 },
 "nbformat": 4,
 "nbformat_minor": 0
}
